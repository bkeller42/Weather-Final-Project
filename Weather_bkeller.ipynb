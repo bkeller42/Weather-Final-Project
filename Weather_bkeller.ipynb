{
 "cells": [
  {
   "cell_type": "markdown",
   "id": "32fb1e46",
   "metadata": {},
   "source": [
    "# Weather Project\n",
    "Brett Keller  \n",
    "Final Project  \n",
    "08/12/21"
   ]
  },
  {
   "cell_type": "markdown",
   "id": "b889b33a",
   "metadata": {},
   "source": [
    "The purpose of this project is to analyse weather data from WWII weather stations."
   ]
  },
  {
   "cell_type": "code",
   "execution_count": 1,
   "id": "34475b9c",
   "metadata": {},
   "outputs": [],
   "source": [
    "import numpy as np\n",
    "import pandas as pd\n",
    "import matplotlib.pyplot as plt\n",
    "import seaborn as sns\n",
    "\n",
    "import scipy\n",
    "import sklearn\n",
    "import thinkstats2\n",
    "import thinkplot\n",
    "\n",
    "from statistics import mode\n",
    "from sklearn import linear_model\n",
    "\n",
    "import warnings\n",
    "warnings.filterwarnings('ignore')"
   ]
  },
  {
   "cell_type": "markdown",
   "id": "61d468aa",
   "metadata": {},
   "source": [
    "### The Data\n",
    "These data describe temperature, precipitation, and other weather conditions across 161 land based weather stations from 1940 to 1945. The data was collected by the National Centres for Environmental Information and aggregated from https://www.kaggle.com/smid80/weatherww2."
   ]
  },
  {
   "cell_type": "markdown",
   "id": "5db8b536",
   "metadata": {},
   "source": [
    "###### Loading the Data"
   ]
  },
  {
   "cell_type": "code",
   "execution_count": 2,
   "id": "8f8092c3",
   "metadata": {},
   "outputs": [
    {
     "data": {
      "text/html": [
       "<div>\n",
       "<style scoped>\n",
       "    .dataframe tbody tr th:only-of-type {\n",
       "        vertical-align: middle;\n",
       "    }\n",
       "\n",
       "    .dataframe tbody tr th {\n",
       "        vertical-align: top;\n",
       "    }\n",
       "\n",
       "    .dataframe thead th {\n",
       "        text-align: right;\n",
       "    }\n",
       "</style>\n",
       "<table border=\"1\" class=\"dataframe\">\n",
       "  <thead>\n",
       "    <tr style=\"text-align: right;\">\n",
       "      <th></th>\n",
       "      <th>station_number</th>\n",
       "      <th>date</th>\n",
       "      <th>precipitation</th>\n",
       "      <th>peak_wind_speed</th>\n",
       "      <th>max_temp</th>\n",
       "      <th>min_temp</th>\n",
       "      <th>mean_temp</th>\n",
       "      <th>snowfall</th>\n",
       "      <th>bad_weather</th>\n",
       "      <th>year</th>\n",
       "      <th>...</th>\n",
       "      <th>frozen_base</th>\n",
       "      <th>ground_ice</th>\n",
       "      <th>water_ice</th>\n",
       "      <th>peak_wind_time</th>\n",
       "      <th>storms</th>\n",
       "      <th>snow_depth2</th>\n",
       "      <th>max_humidity</th>\n",
       "      <th>min_humidity</th>\n",
       "      <th>river_guage</th>\n",
       "      <th>water_equivalent</th>\n",
       "    </tr>\n",
       "  </thead>\n",
       "  <tbody>\n",
       "    <tr>\n",
       "      <th>0</th>\n",
       "      <td>10001</td>\n",
       "      <td>7/1/1942</td>\n",
       "      <td>1.016</td>\n",
       "      <td>NaN</td>\n",
       "      <td>25.555556</td>\n",
       "      <td>22.222222</td>\n",
       "      <td>23.888889</td>\n",
       "      <td>0.0</td>\n",
       "      <td>NaN</td>\n",
       "      <td>42</td>\n",
       "      <td>...</td>\n",
       "      <td>NaN</td>\n",
       "      <td>NaN</td>\n",
       "      <td>NaN</td>\n",
       "      <td>NaN</td>\n",
       "      <td>NaN</td>\n",
       "      <td>NaN</td>\n",
       "      <td>NaN</td>\n",
       "      <td>NaN</td>\n",
       "      <td>NaN</td>\n",
       "      <td>NaN</td>\n",
       "    </tr>\n",
       "    <tr>\n",
       "      <th>1</th>\n",
       "      <td>10001</td>\n",
       "      <td>7/2/1942</td>\n",
       "      <td>0</td>\n",
       "      <td>NaN</td>\n",
       "      <td>28.888889</td>\n",
       "      <td>21.666667</td>\n",
       "      <td>25.555556</td>\n",
       "      <td>0.0</td>\n",
       "      <td>NaN</td>\n",
       "      <td>42</td>\n",
       "      <td>...</td>\n",
       "      <td>NaN</td>\n",
       "      <td>NaN</td>\n",
       "      <td>NaN</td>\n",
       "      <td>NaN</td>\n",
       "      <td>NaN</td>\n",
       "      <td>NaN</td>\n",
       "      <td>NaN</td>\n",
       "      <td>NaN</td>\n",
       "      <td>NaN</td>\n",
       "      <td>NaN</td>\n",
       "    </tr>\n",
       "    <tr>\n",
       "      <th>2</th>\n",
       "      <td>10001</td>\n",
       "      <td>7/3/1942</td>\n",
       "      <td>2.54</td>\n",
       "      <td>NaN</td>\n",
       "      <td>26.111111</td>\n",
       "      <td>22.222222</td>\n",
       "      <td>24.444444</td>\n",
       "      <td>0.0</td>\n",
       "      <td>NaN</td>\n",
       "      <td>42</td>\n",
       "      <td>...</td>\n",
       "      <td>NaN</td>\n",
       "      <td>NaN</td>\n",
       "      <td>NaN</td>\n",
       "      <td>NaN</td>\n",
       "      <td>NaN</td>\n",
       "      <td>NaN</td>\n",
       "      <td>NaN</td>\n",
       "      <td>NaN</td>\n",
       "      <td>NaN</td>\n",
       "      <td>NaN</td>\n",
       "    </tr>\n",
       "    <tr>\n",
       "      <th>3</th>\n",
       "      <td>10001</td>\n",
       "      <td>7/4/1942</td>\n",
       "      <td>2.54</td>\n",
       "      <td>NaN</td>\n",
       "      <td>26.666667</td>\n",
       "      <td>22.222222</td>\n",
       "      <td>24.444444</td>\n",
       "      <td>0.0</td>\n",
       "      <td>NaN</td>\n",
       "      <td>42</td>\n",
       "      <td>...</td>\n",
       "      <td>NaN</td>\n",
       "      <td>NaN</td>\n",
       "      <td>NaN</td>\n",
       "      <td>NaN</td>\n",
       "      <td>NaN</td>\n",
       "      <td>NaN</td>\n",
       "      <td>NaN</td>\n",
       "      <td>NaN</td>\n",
       "      <td>NaN</td>\n",
       "      <td>NaN</td>\n",
       "    </tr>\n",
       "    <tr>\n",
       "      <th>4</th>\n",
       "      <td>10001</td>\n",
       "      <td>7/5/1942</td>\n",
       "      <td>0</td>\n",
       "      <td>NaN</td>\n",
       "      <td>26.666667</td>\n",
       "      <td>21.666667</td>\n",
       "      <td>24.444444</td>\n",
       "      <td>0.0</td>\n",
       "      <td>NaN</td>\n",
       "      <td>42</td>\n",
       "      <td>...</td>\n",
       "      <td>NaN</td>\n",
       "      <td>NaN</td>\n",
       "      <td>NaN</td>\n",
       "      <td>NaN</td>\n",
       "      <td>NaN</td>\n",
       "      <td>NaN</td>\n",
       "      <td>NaN</td>\n",
       "      <td>NaN</td>\n",
       "      <td>NaN</td>\n",
       "      <td>NaN</td>\n",
       "    </tr>\n",
       "  </tbody>\n",
       "</table>\n",
       "<p>5 rows × 31 columns</p>\n",
       "</div>"
      ],
      "text/plain": [
       "   station_number      date precipitation  peak_wind_speed   max_temp  \\\n",
       "0           10001  7/1/1942         1.016              NaN  25.555556   \n",
       "1           10001  7/2/1942             0              NaN  28.888889   \n",
       "2           10001  7/3/1942          2.54              NaN  26.111111   \n",
       "3           10001  7/4/1942          2.54              NaN  26.666667   \n",
       "4           10001  7/5/1942             0              NaN  26.666667   \n",
       "\n",
       "    min_temp  mean_temp  snowfall bad_weather  year  ...  frozen_base  \\\n",
       "0  22.222222  23.888889       0.0         NaN    42  ...          NaN   \n",
       "1  21.666667  25.555556       0.0         NaN    42  ...          NaN   \n",
       "2  22.222222  24.444444       0.0         NaN    42  ...          NaN   \n",
       "3  22.222222  24.444444       0.0         NaN    42  ...          NaN   \n",
       "4  21.666667  24.444444       0.0         NaN    42  ...          NaN   \n",
       "\n",
       "   ground_ice water_ice  peak_wind_time  storms  snow_depth2  max_humidity  \\\n",
       "0         NaN       NaN             NaN     NaN          NaN           NaN   \n",
       "1         NaN       NaN             NaN     NaN          NaN           NaN   \n",
       "2         NaN       NaN             NaN     NaN          NaN           NaN   \n",
       "3         NaN       NaN             NaN     NaN          NaN           NaN   \n",
       "4         NaN       NaN             NaN     NaN          NaN           NaN   \n",
       "\n",
       "   min_humidity  river_guage  water_equivalent  \n",
       "0           NaN          NaN               NaN  \n",
       "1           NaN          NaN               NaN  \n",
       "2           NaN          NaN               NaN  \n",
       "3           NaN          NaN               NaN  \n",
       "4           NaN          NaN               NaN  \n",
       "\n",
       "[5 rows x 31 columns]"
      ]
     },
     "execution_count": 2,
     "metadata": {},
     "output_type": "execute_result"
    }
   ],
   "source": [
    "# weather data\n",
    "weather = pd.read_csv(r'weather.csv', header = 0, \n",
    "                      names=['station_number', 'date', 'precipitation', 'peak_wind_speed', 'max_temp', 'min_temp', 'mean_temp',\n",
    "                            'snowfall', 'bad_weather', 'year', 'month', 'day', 'precip_inches', 'peak_wind_direction', \n",
    "                             'wind_knots', 'max_f', 'min_f', 'mean_f', 'snow_in', 'snow_depth1', 'frozen_top', 'frozen_base', \n",
    "                             'ground_ice', 'water_ice', 'peak_wind_time', 'storms', 'snow_depth2', 'max_humidity', \n",
    "                             'min_humidity', 'river_guage', 'water_equivalent'])\n",
    "weather.head(5)"
   ]
  },
  {
   "cell_type": "code",
   "execution_count": 3,
   "id": "41471251",
   "metadata": {},
   "outputs": [
    {
     "data": {
      "text/html": [
       "<div>\n",
       "<style scoped>\n",
       "    .dataframe tbody tr th:only-of-type {\n",
       "        vertical-align: middle;\n",
       "    }\n",
       "\n",
       "    .dataframe tbody tr th {\n",
       "        vertical-align: top;\n",
       "    }\n",
       "\n",
       "    .dataframe thead th {\n",
       "        text-align: right;\n",
       "    }\n",
       "</style>\n",
       "<table border=\"1\" class=\"dataframe\">\n",
       "  <thead>\n",
       "    <tr style=\"text-align: right;\">\n",
       "      <th></th>\n",
       "      <th>station_number</th>\n",
       "      <th>station_name</th>\n",
       "      <th>country_id</th>\n",
       "      <th>lat_str</th>\n",
       "      <th>lon_str</th>\n",
       "      <th>elevation</th>\n",
       "      <th>latitude</th>\n",
       "      <th>longitude</th>\n",
       "    </tr>\n",
       "  </thead>\n",
       "  <tbody>\n",
       "    <tr>\n",
       "      <th>34</th>\n",
       "      <td>32301</td>\n",
       "      <td>LUXOR</td>\n",
       "      <td>EG</td>\n",
       "      <td>2542N</td>\n",
       "      <td>03242E</td>\n",
       "      <td>86</td>\n",
       "      <td>25.700000</td>\n",
       "      <td>32.666667</td>\n",
       "    </tr>\n",
       "    <tr>\n",
       "      <th>121</th>\n",
       "      <td>31001</td>\n",
       "      <td>KANO</td>\n",
       "      <td>NI</td>\n",
       "      <td>1203N</td>\n",
       "      <td>00832E</td>\n",
       "      <td>475</td>\n",
       "      <td>12.050000</td>\n",
       "      <td>8.500000</td>\n",
       "    </tr>\n",
       "    <tr>\n",
       "      <th>87</th>\n",
       "      <td>33014</td>\n",
       "      <td>DECIMOMANNO</td>\n",
       "      <td>IY</td>\n",
       "      <td>3918N</td>\n",
       "      <td>00910E</td>\n",
       "      <td>7</td>\n",
       "      <td>39.300000</td>\n",
       "      <td>9.250000</td>\n",
       "    </tr>\n",
       "    <tr>\n",
       "      <th>49</th>\n",
       "      <td>16405</td>\n",
       "      <td>NARSARSSUAK</td>\n",
       "      <td>GL</td>\n",
       "      <td>6111N</td>\n",
       "      <td>04525W</td>\n",
       "      <td>11</td>\n",
       "      <td>61.183333</td>\n",
       "      <td>-45.366667</td>\n",
       "    </tr>\n",
       "    <tr>\n",
       "      <th>40</th>\n",
       "      <td>81702</td>\n",
       "      <td>NANDI/AAF</td>\n",
       "      <td>FJ</td>\n",
       "      <td>1745S</td>\n",
       "      <td>17725E</td>\n",
       "      <td>10</td>\n",
       "      <td>-17.750000</td>\n",
       "      <td>177.366667</td>\n",
       "    </tr>\n",
       "  </tbody>\n",
       "</table>\n",
       "</div>"
      ],
      "text/plain": [
       "     station_number station_name country_id lat_str lon_str  elevation  \\\n",
       "34            32301        LUXOR         EG   2542N  03242E         86   \n",
       "121           31001         KANO         NI   1203N  00832E        475   \n",
       "87            33014  DECIMOMANNO         IY   3918N  00910E          7   \n",
       "49            16405  NARSARSSUAK         GL   6111N  04525W         11   \n",
       "40            81702    NANDI/AAF         FJ   1745S  17725E         10   \n",
       "\n",
       "      latitude   longitude  \n",
       "34   25.700000   32.666667  \n",
       "121  12.050000    8.500000  \n",
       "87   39.300000    9.250000  \n",
       "49   61.183333  -45.366667  \n",
       "40  -17.750000  177.366667  "
      ]
     },
     "execution_count": 3,
     "metadata": {},
     "output_type": "execute_result"
    }
   ],
   "source": [
    "# station data\n",
    "stations = pd.read_csv(r'stations.csv', header = 0, \n",
    "                       names=['station_number', 'station_name', 'country_id', 'lat_str', 'lon_str', 'elevation', 'latitude', \n",
    "                              'longitude'])\n",
    "stations.sample(5)"
   ]
  },
  {
   "cell_type": "markdown",
   "id": "c296d4e7",
   "metadata": {},
   "source": [
    "###### Cleaning Data"
   ]
  },
  {
   "cell_type": "code",
   "execution_count": 4,
   "id": "2124081f",
   "metadata": {},
   "outputs": [],
   "source": [
    "# changes items in 'dates' column to datetime objects\n",
    "weather.date = pd.to_datetime(weather.date, format = '%m/%d/%Y')"
   ]
  },
  {
   "cell_type": "code",
   "execution_count": 5,
   "id": "82281592",
   "metadata": {},
   "outputs": [],
   "source": [
    "# changes 'T' to 0.00 in precipitation column\n",
    "weather.loc[(weather.precipitation == 'T'), 'precipitation'] = 0.00"
   ]
  },
  {
   "cell_type": "code",
   "execution_count": 6,
   "id": "05e730dd",
   "metadata": {},
   "outputs": [],
   "source": [
    "# removes rows with missing values for snowfall\n",
    "weather.dropna(subset=['snowfall'], inplace=True)"
   ]
  },
  {
   "cell_type": "code",
   "execution_count": 7,
   "id": "704b2929",
   "metadata": {},
   "outputs": [],
   "source": [
    "# changes precipitation, snowfall columns to float type\n",
    "weather.precipitation = weather.precipitation.astype(float)\n",
    "weather.snowfall = weather.snowfall.astype(float)"
   ]
  },
  {
   "cell_type": "code",
   "execution_count": 8,
   "id": "bf336747",
   "metadata": {},
   "outputs": [],
   "source": [
    "# removes columns with insufficient, redundant, or irrelevant data\n",
    "weather = weather[['station_number', 'date', 'month', 'max_temp', 'min_temp', 'mean_temp', 'precipitation', 'snowfall']]\n",
    "stations = stations[['station_number', 'latitude', 'longitude', 'elevation',]]"
   ]
  },
  {
   "cell_type": "code",
   "execution_count": 9,
   "id": "8028746f",
   "metadata": {},
   "outputs": [],
   "source": [
    "# combines data frames using station number\n",
    "df = pd.merge(left=weather, right=stations)"
   ]
  },
  {
   "cell_type": "markdown",
   "id": "d91f4632",
   "metadata": {},
   "source": [
    "### The Variables"
   ]
  },
  {
   "cell_type": "markdown",
   "id": "cb1ab71f",
   "metadata": {},
   "source": [
    "###### Coordinates\n",
    "\n",
    "There are three variables that describe the location of each station: latitude, longitude, and elevation above sea level in meters.\n",
    "\n",
    "Most of the stations are located close to the equator, though there are a handful of stations north of the 60th parallel. The project that collected this data seems to have focused on nations that did not already have their own weather stations; most of Northern America, Europe, and East Asia have just a handful of stations representing them.\n",
    "\n",
    "Most of the stations are also located very close to sea level. None of the stations are located below sea level, but there are several that are well above it that skew the distribution to the right. The highest is a station located in Asmara, Eritrea at 7,631 feet above sea level. The mean elevation is 427 ft, the mode is 10 ft, and the standard deviation is 1,037 ft.\n",
    "\n",
    "There were a handful of stations that did not have an elevation recorded. Googling the coordinates, I was able to find the meters above sea level for the general area. This seemed to be only a meter or two off when I compared this method with the elevations that were recorded.\n",
    "\n",
    "It appears that all of the stations were operating for roughly the same amount of time, so none of the locations should be over or underrepresented."
   ]
  },
  {
   "cell_type": "code",
   "execution_count": 10,
   "id": "605dd37e",
   "metadata": {},
   "outputs": [
    {
     "data": {
      "image/png": "[encoded data removed]",
      "text/plain": [
       "<Figure size 432x288 with 1 Axes>"
      ]
     },
     "metadata": {
      "needs_background": "light"
     },
     "output_type": "display_data"
    }
   ],
   "source": [
    "# histogram for latitudes\n",
    "plt.hist(stations.latitude, bins = 30, range = [-90,90])\n",
    "plt.title('Latitudes')\n",
    "plt.xlabel('Latitude')\n",
    "plt.ylabel('Frequency')\n",
    "plt.show()"
   ]
  },
  {
   "cell_type": "code",
   "execution_count": 11,
   "id": "7be8a63a",
   "metadata": {
    "scrolled": true
   },
   "outputs": [
    {
     "data": {
      "image/png": "[encoded data removed]",
      "text/plain": [
       "<Figure size 432x288 with 1 Axes>"
      ]
     },
     "metadata": {
      "needs_background": "light"
     },
     "output_type": "display_data"
    }
   ],
   "source": [
    "# histogram for longitudes\n",
    "plt.hist(stations.longitude, bins = 30, range = [-180,180])\n",
    "plt.title('Longitudes')\n",
    "plt.xlabel('Longitude')\n",
    "plt.ylabel('Frequency')\n",
    "plt.show()"
   ]
  },
  {
   "cell_type": "code",
   "execution_count": 12,
   "id": "b3b7c015",
   "metadata": {
    "scrolled": true
   },
   "outputs": [
    {
     "data": {
      "image/png": "[encoded data removed]",
      "text/plain": [
       "<Figure size 432x288 with 1 Axes>"
      ]
     },
     "metadata": {
      "needs_background": "light"
     },
     "output_type": "display_data"
    }
   ],
   "source": [
    "# histogram for elevation\n",
    "plt.hist(stations.elevation, bins = 30)\n",
    "plt.title('Elevation')\n",
    "plt.xlabel('Elevation (meters)')\n",
    "plt.ylabel('Frequency')\n",
    "plt.show()"
   ]
  },
  {
   "cell_type": "code",
   "execution_count": 13,
   "id": "de5bef23",
   "metadata": {},
   "outputs": [
    {
     "name": "stdout",
     "output_type": "stream",
     "text": [
      "mean:  130 m or 427 ft\n",
      "mode:  3 m or 10 ft\n",
      "sd:    316 m or 1037 ft\n",
      "max:   2326 m or 7631 ft\n"
     ]
    }
   ],
   "source": [
    "# mean, mode, and standard deviation\n",
    "mean0 = stations.elevation.mean()\n",
    "mode0 = mode(stations.elevation)\n",
    "std0 = stations.elevation.std()\n",
    "tallest = max(stations.elevation)\n",
    "\n",
    "print('mean:  ' + str(round(mean0)) + ' m or ' + str(round(mean0*3.28084)) + ' ft\\n' +\n",
    "      'mode:  ' + str(round(mode0)) + ' m or ' + str(round(mode0*3.28084)) + ' ft\\n' +\n",
    "      'sd:    ' + str(round(std0)) + ' m or ' + str(round(std0*3.28084)) + ' ft\\n' +\n",
    "      'max:   ' + str(round(tallest)) + ' m or ' + str(round(tallest*3.28084)) + ' ft')"
   ]
  },
  {
   "cell_type": "markdown",
   "id": "5c34576e",
   "metadata": {},
   "source": [
    "###### Temperature\n",
    "\n",
    "There are three variables used to describe temperature in the dataset: the maximum, minimum, and mean temperature recorded for a given date. All are given in degrees Celsius.\n",
    "\n",
    "The average temperature across stations is about 73F, with the average daily high of 81F and low of 64F. The standard deviation between weather stations is about 15 degrees (Fahrenheit scale). The absolute hottest temperature recorded by any of the stations in 5 year span was 122F, only 12 degrees off from the hottest temperature ever recorded in Death Valley. The coldest temperature in the dataset is -37F, a far cry from the world record of -129F in Antarctica.\n",
    "\n",
    "The distributions are skewed negatively- the vast majority of weather stations are located in tropical and temperate latitudes, but there are a few stations located in Greenland. These stations' data seem to account for the skew in the distributions and the small blip in frequency around -18 C."
   ]
  },
  {
   "cell_type": "code",
   "execution_count": 14,
   "id": "9fbec252",
   "metadata": {},
   "outputs": [
    {
     "data": {
      "image/png": "[encoded data removed]",
      "text/plain": [
       "<Figure size 432x288 with 1 Axes>"
      ]
     },
     "metadata": {
      "needs_background": "light"
     },
     "output_type": "display_data"
    }
   ],
   "source": [
    "# histogram for max temp\n",
    "plt.hist(df.max_temp, bins = 30, range = [-40,60])\n",
    "plt.title('Max Temp')\n",
    "plt.xlabel('Temp (Celcius)')\n",
    "plt.ylabel('Frequency')\n",
    "plt.show()"
   ]
  },
  {
   "cell_type": "code",
   "execution_count": 15,
   "id": "02ba11fa",
   "metadata": {},
   "outputs": [
    {
     "data": {
      "image/png": "[encoded data removed]",
      "text/plain": [
       "<Figure size 432x288 with 1 Axes>"
      ]
     },
     "metadata": {
      "needs_background": "light"
     },
     "output_type": "display_data"
    }
   ],
   "source": [
    "# histogram for min temp\n",
    "plt.hist(df.min_temp, bins = 30, range = [-40,60])\n",
    "plt.title('Min Temp')\n",
    "plt.xlabel('Temp (Celcius)')\n",
    "plt.ylabel('Frequency')\n",
    "plt.show()"
   ]
  },
  {
   "cell_type": "code",
   "execution_count": 16,
   "id": "b515c7ad",
   "metadata": {},
   "outputs": [
    {
     "data": {
      "image/png": "[encoded data removed]",
      "text/plain": [
       "<Figure size 432x288 with 1 Axes>"
      ]
     },
     "metadata": {
      "needs_background": "light"
     },
     "output_type": "display_data"
    }
   ],
   "source": [
    "# histogram for mean temp\n",
    "plt.hist(df.mean_temp, bins = 30, range = [-40,60])\n",
    "plt.title('Mean Temp')\n",
    "plt.xlabel('Temp (Celcius)')\n",
    "plt.ylabel('Frequency')\n",
    "plt.show()"
   ]
  },
  {
   "cell_type": "code",
   "execution_count": 17,
   "id": "a7245a60",
   "metadata": {},
   "outputs": [
    {
     "name": "stdout",
     "output_type": "stream",
     "text": [
      "MEANS\n",
      "max-temp:  27.3 C or 81.1 F\n",
      "min-temp:  18.0 C or 64.4 F\n",
      "mean-temp: 22.6 C or 72.7 F\n",
      "\n",
      "MODES\n",
      "max-temp:  30.0 C or 86.0 F\n",
      "min-temp:  22.2 C or 72.0 F\n",
      "mean-temp: 26.7 C or 72.0 F\n",
      "\n",
      "STANDARD DEVIATONS\n",
      "max-temp:  8.4 C or 15.2 F\n",
      "min-temp:  8.1 C or 14.6 F\n",
      "mean-temp: 8.0 C or 14.5 F\n",
      "\n",
      "EXTREMES\n",
      "highest temp: 50.0 C or 122.0F\n",
      "lowest temp: -38.3 C or -37.0F\n"
     ]
    }
   ],
   "source": [
    "# mean, mode, and standard deviation\n",
    "mean1 = df.max_temp.mean()\n",
    "mode1 = mode(df.max_temp)\n",
    "std1 = df.max_temp.std()\n",
    "mean2 = df.min_temp.mean()\n",
    "mode2 = mode(df.min_temp)\n",
    "std2 = df.min_temp.std()\n",
    "mean3 = df.mean_temp.mean()\n",
    "mode3 = mode(df.mean_temp)\n",
    "std3 = df.mean_temp.std()\n",
    "high_temp = max(df.max_temp)\n",
    "low_temp = min(df.min_temp)\n",
    "\n",
    "print('MEANS\\n' +\n",
    "      'max-temp:  ' + str(round(mean1, 1)) + ' C or ' + str(round(mean1*9/5 + 32, 1)) + ' F\\n' +\n",
    "      'min-temp:  ' + str(round(mean2, 1)) + ' C or ' + str(round(mean2*9/5 + 32, 1)) + ' F\\n' +\n",
    "      'mean-temp: ' + str(round(mean3, 1)) + ' C or ' + str(round(mean3*9/5 + 32, 1)) + ' F\\n\\n' +\n",
    "      'MODES\\n' +\n",
    "      'max-temp:  ' + str(round(mode1, 1)) + ' C or ' + str(round(mode1*9/5 + 32, 1)) + ' F\\n' +\n",
    "      'min-temp:  ' + str(round(mode2, 1)) + ' C or ' + str(round(mode2*9/5 + 32, 1)) + ' F\\n' +\n",
    "      'mean-temp: ' + str(round(mode3, 1)) + ' C or ' + str(round(mode2*9/5 + 32, 1)) + ' F\\n\\n' +\n",
    "      'STANDARD DEVIATONS\\n' +\n",
    "      'max-temp:  ' + str(round(std1, 1)) + ' C or ' + str(round(std1*1.8, 1)) + ' F\\n' +\n",
    "      'min-temp:  ' + str(round(std2, 1)) + ' C or ' + str(round(std2*1.8, 1)) + ' F\\n' +\n",
    "      'mean-temp: ' + str(round(std3, 1)) + ' C or ' + str(round(std3*1.8, 1)) + ' F\\n\\n'\n",
    "      'EXTREMES\\n' + \n",
    "      'highest temp: ' + str(round(high_temp, 1)) + ' C or ' + str(round(high_temp*9/5 + 32, 1)) + 'F\\n' +\n",
    "      'lowest temp: ' + str(round(low_temp, 1)) + ' C or ' + str(round(low_temp*9/5 + 32, 1)) + 'F')"
   ]
  },
  {
   "cell_type": "markdown",
   "id": "e707325e",
   "metadata": {},
   "source": [
    "###### Precipitation\n",
    "\n",
    "The notes for the 'precipitation' column just say that the values are measured in millimeters. The 'snowfall' description says that it is snow and ice pellets measured in millimeters. Since there are plenty of instances where snowfall is measured but no 'precipitation', I can only assume that they mean rainfall- not all forms of precipitation. \n",
    "\n",
    "'T' was input to stand for 'trace precipitation'. For the purpose of this analysis, I converted these to a value of 0. See # see https://www.thoughtco.com/what-is-trace-of-precipitation-3444238\n",
    "\n",
    "Most days do not rain or snow, so the mean precipitation is 0 inches. The highest recorded amount of rain in a day was around 12 inches, which is about what you would expect during a hurricane. The most recorded snowfall from the weather stations was about 3.5 inches.\n",
    "\n",
    "A handful of stations did not collect data on snowfall, and were therefore excluded from any anaysis involving snowfall."
   ]
  },
  {
   "cell_type": "code",
   "execution_count": 18,
   "id": "c69b047f",
   "metadata": {},
   "outputs": [
    {
     "data": {
      "image/png": "[encoded data removed]",
      "text/plain": [
       "<Figure size 432x288 with 1 Axes>"
      ]
     },
     "metadata": {
      "needs_background": "light"
     },
     "output_type": "display_data"
    }
   ],
   "source": [
    "# histogram for rainfall\n",
    "plt.hist(df.precipitation, bins = 30)\n",
    "plt.title('Rainfall')\n",
    "plt.xlabel('Rainfall (mm)')\n",
    "plt.ylabel('Frequency')\n",
    "plt.show()"
   ]
  },
  {
   "cell_type": "code",
   "execution_count": 19,
   "id": "6e46359a",
   "metadata": {},
   "outputs": [
    {
     "data": {
      "image/png": "[encoded data removed]",
      "text/plain": [
       "<Figure size 432x288 with 1 Axes>"
      ]
     },
     "metadata": {
      "needs_background": "light"
     },
     "output_type": "display_data"
    }
   ],
   "source": [
    "# histogram for snowfall\n",
    "plt.hist(df.snowfall, bins = 30)\n",
    "plt.title('Snowfall')\n",
    "plt.xlabel('Snowfall (mm)')\n",
    "plt.ylabel('Frequency')\n",
    "plt.show()"
   ]
  },
  {
   "cell_type": "code",
   "execution_count": 20,
   "id": "abd6d41d",
   "metadata": {},
   "outputs": [
    {
     "name": "stdout",
     "output_type": "stream",
     "text": [
      "MEANS\n",
      "rainfall:  3.2 mm or 0.1 in\n",
      "snowfall: 0.2 mm or 0.0 in\n",
      "\n",
      "MODES\n",
      "rainfall:  0.0 mm or 0.0 in\n",
      "snowfall: 0.0 mm or 0.0 in\n",
      "\n",
      "STANDARD DEVIATONS\n",
      "rainfall:  10.8 mm or 0.4 in\n",
      "snowfall: 2.6 mm or 0.1 in\n",
      "\n",
      "EXTREMES\n",
      "highest rainfall: 307.3 mm or 12.1in\n",
      "highest snowfall: 86.4 mm or 3.4in\n"
     ]
    }
   ],
   "source": [
    "# mean, mode, and standard deviation\n",
    "mean4 = df.precipitation.mean()\n",
    "mode4 = mode(df.precipitation)\n",
    "std4 = df.precipitation.std()\n",
    "mean5 = df.snowfall.mean()\n",
    "mode5 = mode(df.snowfall)\n",
    "std5 = df.snowfall.std()\n",
    "high_rain = max(df.precipitation)\n",
    "high_snow = max(df.snowfall)\n",
    "\n",
    "print('MEANS\\n' +\n",
    "      'rainfall:  ' + str(round(mean4, 1)) + ' mm or ' + str(round(mean4/25.4, 1)) + ' in\\n' +\n",
    "      'snowfall: ' + str(round(mean5, 1)) + ' mm or ' + str(round(mean5/25.4, 1)) + ' in\\n\\n' +\n",
    "      'MODES\\n' +\n",
    "      'rainfall:  ' + str(round(mode4, 1)) + ' mm or ' + str(round(mode4/25.4, 1)) + ' in\\n' +\n",
    "      'snowfall: ' + str(round(mode5, 1)) + ' mm or ' + str(round(mode5/25.4, 1)) + ' in\\n\\n' +\n",
    "      'STANDARD DEVIATONS\\n' +\n",
    "      'rainfall:  ' + str(round(std4, 1)) + ' mm or ' + str(round(std4/25.4, 1)) + ' in\\n' +\n",
    "      'snowfall: ' + str(round(std5, 1)) + ' mm or ' + str(round(std5/25.4, 1)) + ' in\\n\\n'\n",
    "      'EXTREMES\\n' + \n",
    "      'highest rainfall: ' + str(round(high_rain, 1)) + ' mm or ' + str(round(high_rain/25.4, 1)) + 'in\\n' +\n",
    "      'highest snowfall: ' + str(round(high_snow, 1)) + ' mm or ' + str(round(high_snow/25.4, 1)) + 'in')"
   ]
  },
  {
   "cell_type": "markdown",
   "id": "41eb63de",
   "metadata": {},
   "source": [
    "### PMFs and CDFs"
   ]
  },
  {
   "cell_type": "markdown",
   "id": "e1bc9e49",
   "metadata": {},
   "source": [
    "###### Summer vs Winter PMFs"
   ]
  },
  {
   "cell_type": "code",
   "execution_count": 21,
   "id": "2aa1e5bb",
   "metadata": {},
   "outputs": [
    {
     "data": {
      "image/png": "[encoded data removed]",
      "text/plain": [
       "<Figure size 432x288 with 1 Axes>"
      ]
     },
     "metadata": {
      "needs_background": "light"
     },
     "output_type": "display_data"
    },
    {
     "data": {
      "text/plain": [
       "<Figure size 576x432 with 0 Axes>"
      ]
     },
     "metadata": {},
     "output_type": "display_data"
    }
   ],
   "source": [
    "# splits data for meteorological winter and summer in the northern hemisphere\n",
    "winter = df.loc[((df['month'] == 1) | (df['month'] == 2) | (df['month'] == 12)) & (df['latitude'] > 0)]\n",
    "summer = df.loc[((df['month'] == 6) | (df['month'] == 7) | (df['month'] == 8)) & (df['latitude'] > 0)]\n",
    "\n",
    "# creates pmfs\n",
    "winter_pmf = thinkstats2.Pmf(winter.mean_temp)\n",
    "summer_pmf = thinkstats2.Pmf(summer.mean_temp)\n",
    "\n",
    "# plots pmfs\n",
    "thinkplot.PrePlot(2)\n",
    "thinkplot.Pmfs([winter_pmf, summer_pmf])\n",
    "thinkplot.Show(xlabel = 'Temperature (Celcius)',\n",
    "               axis = [-20, 40, 0, 0.125])"
   ]
  },
  {
   "cell_type": "markdown",
   "id": "7fb20fb4",
   "metadata": {},
   "source": [
    "##### Summer vs Winter CDFs"
   ]
  },
  {
   "cell_type": "code",
   "execution_count": 22,
   "id": "a48bbd3f",
   "metadata": {},
   "outputs": [
    {
     "data": {
      "image/png": "[encoded data removed]",
      "text/plain": [
       "<Figure size 432x288 with 1 Axes>"
      ]
     },
     "metadata": {
      "needs_background": "light"
     },
     "output_type": "display_data"
    },
    {
     "data": {
      "text/plain": [
       "<Figure size 576x432 with 0 Axes>"
      ]
     },
     "metadata": {},
     "output_type": "display_data"
    }
   ],
   "source": [
    "# creates pmfs\n",
    "winter_cdf = thinkstats2.Cdf(winter.mean_temp)\n",
    "summer_cdf = thinkstats2.Cdf(summer.mean_temp)\n",
    "\n",
    "# plots pmfs\n",
    "thinkplot.PrePlot(2)\n",
    "thinkplot.Pmfs([winter_cdf, summer_cdf])\n",
    "thinkplot.Show(xlabel = 'Temperature (Celcius)',\n",
    "               ylabel = 'CDF')"
   ]
  },
  {
   "cell_type": "markdown",
   "id": "88d3aed3",
   "metadata": {},
   "source": [
    "Summer months are more likely to have a warmer daily average temperature. There is much more variability in temperature during the winter months than during the summer months. "
   ]
  },
  {
   "cell_type": "markdown",
   "id": "b5ee2757",
   "metadata": {},
   "source": [
    "### Relationships"
   ]
  },
  {
   "cell_type": "markdown",
   "id": "44982db2",
   "metadata": {},
   "source": [
    "###### Maximum and Minimum Temperature"
   ]
  },
  {
   "cell_type": "markdown",
   "id": "ed911a90",
   "metadata": {},
   "source": [
    "It appears that there is a strong, positive, linear relationship between the daily maximum and daily minimum temperature. Pearson's r = 0.88"
   ]
  },
  {
   "cell_type": "code",
   "execution_count": 23,
   "id": "1fd345cf",
   "metadata": {},
   "outputs": [
    {
     "data": {
      "text/plain": [
       "Text(0, 0.5, 'Temp (Celcius)')"
      ]
     },
     "execution_count": 23,
     "metadata": {},
     "output_type": "execute_result"
    },
    {
     "data": {
      "image/png": "[encoded data removed]",
      "text/plain": [
       "<Figure size 1080x360 with 1 Axes>"
      ]
     },
     "metadata": {
      "needs_background": "light"
     },
     "output_type": "display_data"
    }
   ],
   "source": [
    "# shows maximum and minimum temperature over time\n",
    "time_df = df.groupby(df.date).mean()\n",
    "plt.figure(figsize = (15,5))\n",
    "plt.plot(time_df.index, time_df.max_temp, color = 'r')\n",
    "plt.plot(time_df.index, time_df.min_temp, color = 'b')\n",
    "plt.suptitle('Temperatures vs Time')\n",
    "plt.xlabel('Time')\n",
    "plt.ylabel('Temp (Celcius)')"
   ]
  },
  {
   "cell_type": "code",
   "execution_count": 24,
   "id": "d1259958",
   "metadata": {},
   "outputs": [],
   "source": [
    "# removes outliers\n",
    "smooth = df.drop(df[(df['min_temp'] < -15) & (df['max_temp'] > 15)].index)\n",
    "smooth = smooth.drop(smooth[(smooth['min_temp'] > 8) & (smooth['max_temp'] < -15)].index)"
   ]
  },
  {
   "cell_type": "code",
   "execution_count": 25,
   "id": "7d71bc04",
   "metadata": {},
   "outputs": [
    {
     "data": {
      "text/plain": [
       "Text(1.6749999999999972, 0.5, 'Min Temp (Celcius)')"
      ]
     },
     "execution_count": 25,
     "metadata": {},
     "output_type": "execute_result"
    },
    {
     "data": {
      "image/png": "[encoded data removed]",
      "text/plain": [
       "<Figure size 360x360 with 1 Axes>"
      ]
     },
     "metadata": {
      "needs_background": "light"
     },
     "output_type": "display_data"
    }
   ],
   "source": [
    "# plots max vs min temp with trend line\n",
    "sns.lmplot(x = 'max_temp', y = 'min_temp', data = smooth, line_kws = {'color': 'red'})\n",
    "plt.scatter(smooth.max_temp, smooth.min_temp, alpha = 0.25, color = 'blue')\n",
    "plt.suptitle('Max vs Min Temp')\n",
    "plt.xlabel('Max Temp (Celcius)')\n",
    "plt.ylabel('Min Temp (Celcius)')"
   ]
  },
  {
   "cell_type": "code",
   "execution_count": 26,
   "id": "a9347de8",
   "metadata": {},
   "outputs": [
    {
     "data": {
      "text/plain": [
       "array([[70.64025656, 59.59191169],\n",
       "       [59.59191169, 65.6231118 ]])"
      ]
     },
     "execution_count": 26,
     "metadata": {},
     "output_type": "execute_result"
    }
   ],
   "source": [
    "# covariance\n",
    "np.cov(smooth.max_temp, smooth.min_temp)"
   ]
  },
  {
   "cell_type": "code",
   "execution_count": 27,
   "id": "83fa81f2",
   "metadata": {},
   "outputs": [
    {
     "data": {
      "text/plain": [
       "array([[1.        , 0.87525132],\n",
       "       [0.87525132, 1.        ]])"
      ]
     },
     "execution_count": 27,
     "metadata": {},
     "output_type": "execute_result"
    }
   ],
   "source": [
    "# pearson correlation\n",
    "np.corrcoef(smooth.max_temp, smooth.min_temp)"
   ]
  },
  {
   "cell_type": "markdown",
   "id": "4a8f7d21",
   "metadata": {},
   "source": [
    "###### Temperature and Snowfall"
   ]
  },
  {
   "cell_type": "markdown",
   "id": "be541f28",
   "metadata": {},
   "source": [
    "There is a weak, negative correlation between mean temperature and snowfall- i.e., there is generally more snow for colder temperatures. However, it looks as though the data may better be described with a non-linear model; there seems to be a sweet spot that produces the most amount of snow."
   ]
  },
  {
   "cell_type": "code",
   "execution_count": 28,
   "id": "86390a89",
   "metadata": {},
   "outputs": [
    {
     "data": {
      "text/plain": [
       "Text(10.049999999999997, 0.5, 'Snowfall (mm)')"
      ]
     },
     "execution_count": 28,
     "metadata": {},
     "output_type": "execute_result"
    },
    {
     "data": {
      "image/png": "[encoded data removed]",
      "text/plain": [
       "<Figure size 360x360 with 1 Axes>"
      ]
     },
     "metadata": {
      "needs_background": "light"
     },
     "output_type": "display_data"
    }
   ],
   "source": [
    "# plots temp vs snowfall with trend line\n",
    "sns.lmplot(x = 'mean_temp', y = 'snowfall', data = df, line_kws = {'color': 'red'})\n",
    "plt.scatter(df.mean_temp, df.snowfall, alpha = 0.25, color = 'blue')\n",
    "plt.suptitle('Temp vs Snowfall')\n",
    "plt.xlabel('Mean Temp (Celcius)')\n",
    "plt.ylabel('Snowfall (mm)')"
   ]
  },
  {
   "cell_type": "code",
   "execution_count": 29,
   "id": "0a752e96",
   "metadata": {},
   "outputs": [
    {
     "data": {
      "text/plain": [
       "array([[64.60677702, -7.14086512],\n",
       "       [-7.14086512,  6.89902803]])"
      ]
     },
     "execution_count": 29,
     "metadata": {},
     "output_type": "execute_result"
    }
   ],
   "source": [
    "# covariance\n",
    "np.cov(df.mean_temp, df.snowfall)"
   ]
  },
  {
   "cell_type": "code",
   "execution_count": 30,
   "id": "b92d2160",
   "metadata": {},
   "outputs": [
    {
     "data": {
      "text/plain": [
       "array([[ 1.        , -0.33823445],\n",
       "       [-0.33823445,  1.        ]])"
      ]
     },
     "execution_count": 30,
     "metadata": {},
     "output_type": "execute_result"
    }
   ],
   "source": [
    "# pearson correlation\n",
    "np.corrcoef(df.mean_temp, df.snowfall)"
   ]
  },
  {
   "cell_type": "markdown",
   "id": "ee8f3836",
   "metadata": {},
   "source": [
    "### Hypothesis Testing"
   ]
  },
  {
   "cell_type": "markdown",
   "id": "e396fcfd",
   "metadata": {},
   "source": [
    "###### April Showers?\n",
    "\n",
    "I would like to test the hypothesis that the average precipitation is greater in April compared to other months of the year. \n",
    "Looking at the means for each month, September had the highest average rainfall with 4.1 mm. Even looking at the number of days it rains per month, August and September are the rainiest months with over a third of the month having some precipitation.\n",
    "\n",
    "A T-test shows that the rainfall is greater in September than April, with a p-vale < 0.001. We can reject the hypothesis that there is no difference, and in fact the difference is opposite of what folk wisdom tells us. "
   ]
  },
  {
   "cell_type": "code",
   "execution_count": 31,
   "id": "0c1d823c",
   "metadata": {},
   "outputs": [
    {
     "data": {
      "text/plain": [
       "month\n",
       "1     2.106193\n",
       "2     2.145671\n",
       "3     2.249660\n",
       "4     2.575987\n",
       "5     3.637992\n",
       "6     3.828161\n",
       "7     3.868092\n",
       "8     4.058942\n",
       "9     4.113810\n",
       "10    4.032390\n",
       "11    3.006514\n",
       "12    2.803612\n",
       "Name: precipitation, dtype: float64"
      ]
     },
     "execution_count": 31,
     "metadata": {},
     "output_type": "execute_result"
    }
   ],
   "source": [
    "# looks at mean precipiation for each month\n",
    "month_df = df.groupby(df.month).mean()\n",
    "month_df.precipitation"
   ]
  },
  {
   "cell_type": "code",
   "execution_count": 32,
   "id": "e549b277",
   "metadata": {},
   "outputs": [
    {
     "name": "stdout",
     "output_type": "stream",
     "text": [
      "1, 26%\n",
      "2, 26%\n",
      "3, 26%\n",
      "4, 28%\n",
      "5, 32%\n",
      "6, 35%\n",
      "7, 35%\n",
      "8, 38%\n",
      "9, 38%\n",
      "10, 35%\n",
      "11, 31%\n",
      "12, 31%\n"
     ]
    }
   ],
   "source": [
    "# looks at number of days with rain\n",
    "count = 1\n",
    "while count < 13:\n",
    "    days = np.count_nonzero(df.loc[df['month'] == count].precipitation, axis=0)\n",
    "    days = round(days/len(df.loc[df['month'] == count])*100)\n",
    "    print(str(count) +', ' + str(days) + '%')\n",
    "    count += 1"
   ]
  },
  {
   "cell_type": "code",
   "execution_count": 33,
   "id": "13415637",
   "metadata": {},
   "outputs": [
    {
     "data": {
      "text/plain": [
       "Ttest_indResult(statistic=-9.959690723696173, pvalue=2.6016328795995256e-23)"
      ]
     },
     "execution_count": 33,
     "metadata": {},
     "output_type": "execute_result"
    }
   ],
   "source": [
    "# compares april with september\n",
    "april = df.loc[df['month'] == 4].precipitation.values\n",
    "sept = df.loc[df['month'] == 9].precipitation.values\n",
    "scipy.stats.ttest_ind(april, sept)"
   ]
  },
  {
   "cell_type": "markdown",
   "id": "c21e7d7e",
   "metadata": {},
   "source": [
    "### Regression Analysis"
   ]
  },
  {
   "cell_type": "markdown",
   "id": "99d27339",
   "metadata": {},
   "source": [
    "###### Predicting Temperature\n",
    "The goal is to create a multiple regression model that predicts the mean temperature given location and date information."
   ]
  },
  {
   "cell_type": "code",
   "execution_count": 34,
   "id": "8dff6b9d",
   "metadata": {},
   "outputs": [],
   "source": [
    "# creates linear model to predict mean temperature\n",
    "regr = linear_model.LinearRegression()\n",
    "xtest = df[['latitude', 'longitude', 'elevation', 'month']]\n",
    "ytest = df['mean_temp']\n",
    "regr.fit(xtest, ytest)\n",
    "ypredict = regr.predict(xtest)"
   ]
  },
  {
   "cell_type": "code",
   "execution_count": 35,
   "id": "faf23731",
   "metadata": {},
   "outputs": [
    {
     "data": {
      "text/plain": [
       "array([-0.22408665, -0.00712177, -0.00312277,  0.11955327])"
      ]
     },
     "execution_count": 35,
     "metadata": {},
     "output_type": "execute_result"
    }
   ],
   "source": [
    "# coefficients\n",
    "regr.coef_"
   ]
  },
  {
   "cell_type": "code",
   "execution_count": 36,
   "id": "e330e86b",
   "metadata": {},
   "outputs": [
    {
     "data": {
      "text/plain": [
       "44.17547272375172"
      ]
     },
     "execution_count": 36,
     "metadata": {},
     "output_type": "execute_result"
    }
   ],
   "source": [
    "# mean squared error\n",
    "sklearn.metrics.mean_squared_error(ytest, ypredict)"
   ]
  },
  {
   "cell_type": "code",
   "execution_count": 37,
   "id": "1f82f027",
   "metadata": {},
   "outputs": [
    {
     "data": {
      "text/plain": [
       "0.31623508142411383"
      ]
     },
     "execution_count": 37,
     "metadata": {},
     "output_type": "execute_result"
    }
   ],
   "source": [
    "# coefficient of determination\n",
    "sklearn.metrics.r2_score(ytest, ypredict)"
   ]
  },
  {
   "attachments": {},
   "cell_type": "markdown",
   "id": "7e86b116",
   "metadata": {},
   "source": [
    "### Conclusion\n",
    "###### Results: Relationships\n",
    "Summer months are more likely to have a warmer daily average temperature. There is much more variability in temperature during the winter months than during the summer months.  \n",
    "It appears that there is a strong, positive, linear relationship between the daily maximum and daily minimum temperature. Pearson's r = 0.88.  \n",
    "There is a weak, negative correlation between mean temperature and snowfall; there is generally more snow for colder temperatures. However, it looks as though the data may better be described with a non-linear model; there seems to be a sweet spot in temperature that produces the most amount of snow.  \n",
    "A model was also constructed in an attempt to predict the average temperature of a given location and time of the year. Only 32% of the variation in mean temperature could be predicted from this information.  \n",
    "###### Results: April Showers\n",
    "The idea that April is considered a particularly rainy month has become cliche, repeated in aphorisms and platitudes. I wanted to put this to the test.  \n",
    "Looking at the mean precipitation for each month, it was actually September that had the highest average rainfall- 4.1 mm. Even looking at the number of days it rains per month, August and September were tied for the rainiest months. Over a third of the days of those months have at least some rain.  \n",
    "A T-test confirms that the rainfall is greater in September than April, with a p-value < 0.001. We can reject the hypothesis that there is no difference, and in fact the difference is opposite of what folk wisdom tells us.   \n",
    "###### Limitations  \n",
    "Only a handful of the different variables measured among the stations were collected by all stations. Wind speed, thunderstorms, and other interesting measures were just too sparsely available to provide any useful insight. Future research could not only examine other variables, but look to expand the range of weather stations worldwide over a longer breadth of time.  \n",
    "Certain decisions had to be made to analyze the data. Trace amounts of rainfall were counted as no rainfall, a few stations missing elevation data that was supplemented by the average elevation of their location’s city, and some assumptions were made regarding precipitation as excluding snowfall.  \n",
    "More advanced analysis could be used to analyze the data. Time-series analysis could be used to forecast the weather, non-linear relationships could be examined, similar locations could be examined through cluster analysis, and the data could be divided to better train and test the regression model. "
   ]
  }
 ],
 "metadata": {
  "kernelspec": {
   "display_name": "Python 3",
   "language": "python",
   "name": "python3"
  },
  "language_info": {
   "codemirror_mode": {
    "name": "ipython",
    "version": 3
   },
   "file_extension": ".py",
   "mimetype": "text/x-python",
   "name": "python",
   "nbconvert_exporter": "python",
   "pygments_lexer": "ipython3",
   "version": "3.8.8"
  }
 },
 "nbformat": 4,
 "nbformat_minor": 5
}
